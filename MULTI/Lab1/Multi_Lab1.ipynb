{
  "nbformat": 4,
  "nbformat_minor": 0,
  "metadata": {
    "colab": {
      "provenance": []
    },
    "kernelspec": {
      "name": "python3",
      "display_name": "Python 3"
    },
    "language_info": {
      "name": "python"
    }
  },
  "cells": [
    {
      "cell_type": "code",
      "execution_count": null,
      "metadata": {
        "colab": {
          "base_uri": "https://localhost:8080/"
        },
        "id": "56E54ciMzars",
        "outputId": "e46a351d-b41f-4431-e832-547c7033d5a6"
      },
      "outputs": [
        {
          "output_type": "stream",
          "name": "stdout",
          "text": [
            "[[1, 4, 5, 12], [-5, 8, 9, 0], [-6, 7, 11, 19]]\n",
            "[[16, 8, 2, 4], [5, 7, 8, 11], [20, 30, 40, 50]]\n",
            "[[1 2 3]\n",
            " [3 4 5]]\n",
            "[[1, 2, 3, 4], [5, 6, 7, 8], [9, 8, 8, 9], [8, 7, 7, 8], [4, 5, 9, 8]]\n"
          ]
        }
      ],
      "source": [
        "import numpy as np\n",
        "\n",
        "A = [[1, 4, 5, 12], [-5, 8, 9, 0], [-6, 7, 11, 19]]\n",
        "B = [[16, 8, 2, 4], [5, 7, 8, 11], [20, 30, 40, 50]]\n",
        "C = np.array([[1, 2, 3], [3, 4, 5]])\n",
        "D = [[1, 2, 3, 4], [5, 6, 7, 8], [9, 8, 8, 9], [8, 7, 7, 8], [4, 5, 9, 8]]\n",
        "print(A)\n",
        "print(B)\n",
        "print(C)\n",
        "print(D)\n"
      ]
    },
    {
      "cell_type": "code",
      "source": [
        "## A)\n",
        "X = A\n",
        "for i in range(len(X)):\n",
        "  for j in range(len(X[i])):\n",
        "    print(A[i][j], end=' ')\n",
        "print()\n",
        "X = B\n",
        "for i in range(len(X)):\n",
        "  for j in range(len(X[i])):\n",
        "    print(X[i][j], end=' ')\n",
        "print()\n",
        "X = C\n",
        "for i in range(len(X)):\n",
        "  for j in range(len(X[i])):\n",
        "    print(X[i][j], end=' ')\n",
        "print()\n",
        "X = D\n",
        "for i in range(len(X)):\n",
        "  for j in range(len(X[i])):\n",
        "    print(X[i][j], end=' ')\n",
        "print('\\n')\n",
        "\n",
        "## B)\n",
        "x2 = np.random.randint(10, size=(3, 4))\n",
        "print(x2[:, 0])\n",
        "print(x2[0,:])\n",
        "print(x2[0:2, 2:3])\n",
        "A4 = x2\n",
        "print(A4)\n",
        "A4[: ,0] = 0\n",
        "print(A4)\n",
        "A5 = x2[-1,-1]\n",
        "print(A5)\n",
        "A6 = x2[: , -1]\n",
        "print(A6)\n",
        "A7 = x2[-1, -2]\n",
        "print(A7)\n",
        "A9 = np.transpose(x2)\n",
        "print(A9)\n",
        "\n",
        "print('\\n')\n",
        "\n",
        "## C)\n",
        "C1 = np.array(range(0,21))\n",
        "print(C1)\n",
        "C2 = np.array(range(0,21,2))\n",
        "print(C2)\n",
        "C3 = np.array(range(1,21,2))\n",
        "print(C3)\n",
        "C4 = np.arange(0.0,1.1,0.1)\n",
        "print(C4)"
      ],
      "metadata": {
        "colab": {
          "base_uri": "https://localhost:8080/"
        },
        "id": "mnJ4VTvxzgLB",
        "outputId": "8be66337-e8be-4bdc-c392-df8eb3ed2ef3"
      },
      "execution_count": null,
      "outputs": [
        {
          "output_type": "stream",
          "name": "stdout",
          "text": [
            "1 4 5 12 -5 8 9 0 -6 7 11 19 \n",
            "16 8 2 4 5 7 8 11 20 30 40 50 \n",
            "1 2 3 3 4 5 \n",
            "1 2 3 4 5 6 7 8 9 8 8 9 8 7 7 8 4 5 9 8 \n",
            "\n",
            "[5 4 8]\n",
            "[5 8 1 0]\n",
            "[[1]\n",
            " [4]]\n",
            "[[5 8 1 0]\n",
            " [4 3 4 9]\n",
            " [8 7 9 9]]\n",
            "[[0 8 1 0]\n",
            " [0 3 4 9]\n",
            " [0 7 9 9]]\n",
            "9\n",
            "[0 9 9]\n",
            "9\n",
            "[[0 0 0]\n",
            " [8 3 7]\n",
            " [1 4 9]\n",
            " [0 9 9]]\n",
            "\n",
            "\n",
            "[ 0  1  2  3  4  5  6  7  8  9 10 11 12 13 14 15 16 17 18 19 20]\n",
            "[ 0  2  4  6  8 10 12 14 16 18 20]\n",
            "[ 1  3  5  7  9 11 13 15 17 19]\n",
            "[0.  0.1 0.2 0.3 0.4 0.5 0.6 0.7 0.8 0.9 1. ]\n"
          ]
        }
      ]
    },
    {
      "cell_type": "code",
      "source": [
        "x2 = np.random.randint(10, size=(3, 4))\n",
        "print(x2)\n",
        "M1 = np.sum(x2)\n",
        "print(M1)\n",
        "M1 = x2.max(axis=0)\n",
        "print(M1)\n",
        "M2 = np.max(x2)\n",
        "print(M2)\n",
        "M3 = x2.min(axis=0)\n",
        "print(M3)\n",
        "M4 = np.min(x2)\n",
        "print(M4)\n",
        "print()\n",
        "M5 = np.array([[1,2,3,4],[5,6,7,8],[9,10,11,12],[13,14,15,16]])\n",
        "print(M5)\n",
        "M6 = M5[0:-1, 0:3]\n",
        "print(M6)"
      ],
      "metadata": {
        "colab": {
          "base_uri": "https://localhost:8080/"
        },
        "id": "AwccYmei1JFO",
        "outputId": "c2062f72-6dde-4467-fbd3-a885443785bd"
      },
      "execution_count": null,
      "outputs": [
        {
          "output_type": "stream",
          "name": "stdout",
          "text": [
            "[[7 3 4 7]\n",
            " [4 4 2 5]\n",
            " [1 7 4 2]]\n",
            "50\n",
            "[7 7 4 7]\n",
            "7\n",
            "[1 3 2 2]\n",
            "1\n",
            "\n",
            "[[ 1  2  3  4]\n",
            " [ 5  6  7  8]\n",
            " [ 9 10 11 12]\n",
            " [13 14 15 16]]\n",
            "[[ 1  2  3]\n",
            " [ 5  6  7]\n",
            " [ 9 10 11]]\n"
          ]
        }
      ]
    }
  ]
}